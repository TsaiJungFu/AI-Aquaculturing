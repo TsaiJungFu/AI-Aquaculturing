{
 "cells": [
  {
   "cell_type": "code",
   "execution_count": null,
   "metadata": {},
   "outputs": [],
   "source": [
    "from selenium import webdriver\n",
    "import time\n",
    "from imgurpython import ImgurClient #imgur\n",
    "import PIL\n",
    "import configparser #匯入config套件\n",
    "from selenium.webdriver.support.ui import Select\n",
    "import MySQLdb\n",
    "#config檔案匯入\n",
    "config = configparser.ConfigParser()\n",
    "config.read(\"./config.ini\")\n",
    "client_id=(config['imgur']['client_id'])\n",
    "client_secret=(config['imgur']['client_secret'])\n",
    "album_id=(config['imgur']['album_id'])\n",
    "access_token=(config['imgur']['access_token'])\n",
    "refresh_token=(config['imgur']['refresh_token'])\n",
    "\n",
    "# 開啟Chrome瀏覽器\n",
    "chrome_options = webdriver.ChromeOptions()\n",
    "#chrome_options.add_argument('--headless')\n",
    "#chrome_options.add_argument('--disable-gpu')\n",
    "prefs = {\"profile.managed_default_content_settings.images\":2}\n",
    "chrome_options.add_experimental_option(\"prefs\",prefs)\n",
    "browser = webdriver.Chrome(chrome_options=chrome_options) #有介面啟動\n",
    "#browser = webdriver.Chrome(chrome_options=chrome_options) #無介面啟動"
   ]
  },
  {
   "cell_type": "code",
   "execution_count": null,
   "metadata": {},
   "outputs": [],
   "source": [
    "url=\"127.0.0.1\"\n",
    "Acc = \"test1234@gmail.com\"\n",
    "Pwd = \"123456789\""
   ]
  },
  {
   "cell_type": "code",
   "execution_count": null,
   "metadata": {},
   "outputs": [],
   "source": [
    "browser.get(url)\n",
    "time.sleep(5)\n",
    "\n",
    "while True: #登入點擊\n",
    "    try:\n",
    "        if browser.find_element_by_xpath(\"//a[@class='btn btn-primary btn-lg wow fadeInUp animated animated']\"):\n",
    "            browser.find_element_by_xpath(\"//a[@class='btn btn-primary btn-lg wow fadeInUp animated animated']\").click()\n",
    "            break\n",
    "    except:\n",
    "        print(f\"再次嘗試\")\n",
    "    time.sleep(0.5)\n",
    "\n",
    "while True:# 自動填入帳號密碼\n",
    "    try:\n",
    "        if browser.find_element_by_id(\"email\"):\n",
    "            browser.find_element_by_id(\"email\").send_keys(Acc)\n",
    "            browser.find_element_by_id(\"password\").send_keys(Pwd)\n",
    "            print(f\"自動填入帳號密碼成功\")\n",
    "            break\n",
    "    except:\n",
    "        print(f\"再次嘗試填入帳號密碼\")\n",
    "    time.sleep(0.5)\n",
    "\n",
    "while True:# 按登入\n",
    "    try:\n",
    "        if browser.find_element_by_xpath(\"//button[@class='btn btn-primary']\"):\n",
    "            browser.find_element_by_xpath(\"//button[@class='btn btn-primary']\").click()\n",
    "            print(f\"點擊登入成功\")\n",
    "            time.sleep(3)#登入後三秒轉跳\n",
    "            break\n",
    "    except:\n",
    "        print(f\"再次嘗試點擊登入\")\n",
    "    time.sleep(0.5)\n",
    "\n",
    "time.sleep(1)\n"
   ]
  },
  {
   "cell_type": "code",
   "execution_count": 4,
   "metadata": {},
   "outputs": [],
   "source": [
    "def rebackimage(jar_number):\n",
    "    \n",
    "    jar_id=jar_number\n",
    "    \n",
    "    while True:\n",
    "        try:\n",
    "            if Select(browser.find_element_by_name('jar_dashboard_id')):  # 例項化Select\n",
    "                s1 = Select(browser.find_element_by_name('jar_dashboard_id'))  # 例項化Select\n",
    "                s1.select_by_visible_text(str(jar_id))\n",
    "                break\n",
    "        except:\n",
    "            print(f\"再次嘗試選擇魚缸\")\n",
    "        time.sleep(0.5)\n",
    "    while True:\n",
    "        try:\n",
    "            if browser.find_element_by_xpath(\"//canvas[@id='barChart']\"):\n",
    "                time.sleep(1)\n",
    "                a = browser.find_element_by_xpath(\"//canvas[@id='barChart']\")\n",
    "                A=a.screenshot(\"code.png\")\n",
    "                print(f\"擷取圖表成功\")\n",
    "                break\n",
    "        except:\n",
    "            print(f\"嘗試擷取圖表\")\n",
    "        time.sleep(1)\n",
    "    #imgur 上傳\n",
    "    client = ImgurClient(client_id, client_secret, access_token, refresh_token)\n",
    "    img_config = {\n",
    "            'album': album_id,\n",
    "            'name':'',\n",
    "            'title':'',\n",
    "            'description': '圖表'}\n",
    "    while True:\n",
    "        try:\n",
    "            if A==a.screenshot(\"code.png\"):\n",
    "                print(\"Uploading image... \")\n",
    "                image = client.upload_from_path('code.png', config=img_config, anon=False)\n",
    "                print(\"Done\")\n",
    "                print(image['link'])\n",
    "                imagelink = image['link']\n",
    "                break\n",
    "        except:\n",
    "            print(f\"fail\")\n",
    "        time.sleep(0.5)\n",
    "\n",
    "    t = time.localtime()\n",
    "    result = time.strftime(\"%Y%m%d%H%M\", t)\n",
    "    db = MySQLdb.connect(host=config['mysql']['host'],user=config['mysql']['user'], passwd=config['mysql']['password'], db=config['mysql']['user'])\n",
    "    cursor = db.cursor()\n",
    "    sql= \"INSERT INTO line_bot_image_url (jarid,imageURL,timestamp) VALUES ('\"+ str(jar_id) +\"','\" + imagelink + \"','\" + result+ \"')\"\n",
    "    cursor.execute(sql)\n",
    "    db.commit()\n",
    "    cursor.close()\n",
    "    db.close()\n",
    "    \n",
    "    return "
   ]
  },
  {
   "cell_type": "code",
   "execution_count": 5,
   "metadata": {
    "scrolled": true
   },
   "outputs": [],
   "source": [
    "def main():\n",
    "    while True:\n",
    "        rebackimage(1)\n",
    "        rebackimage(2)\n",
    "        time.sleep(300)"
   ]
  },
  {
   "cell_type": "code",
   "execution_count": null,
   "metadata": {},
   "outputs": [],
   "source": [
    "main()"
   ]
  }
 ],
 "metadata": {
  "kernelspec": {
   "display_name": "Python 3",
   "language": "python",
   "name": "python3"
  },
  "language_info": {
   "codemirror_mode": {
    "name": "ipython",
    "version": 3
   },
   "file_extension": ".py",
   "mimetype": "text/x-python",
   "name": "python",
   "nbconvert_exporter": "python",
   "pygments_lexer": "ipython3",
   "version": "3.7.4"
  }
 },
 "nbformat": 4,
 "nbformat_minor": 4
}
